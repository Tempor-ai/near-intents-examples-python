{
 "cells": [
  {
   "cell_type": "markdown",
   "id": "1f694233",
   "metadata": {},
   "source": [
    "### **InstaSwap Python Examples Notebook**\n",
    "\n",
    "**Powered by NEAR 1Click Intents**"
   ]
  },
  {
   "cell_type": "markdown",
   "id": "6df558e0",
   "metadata": {},
   "source": [
    "Libraries"
   ]
  },
  {
   "cell_type": "code",
   "execution_count": 1,
   "id": "18cc706d",
   "metadata": {},
   "outputs": [
    {
     "name": "stdout",
     "output_type": "stream",
     "text": [
      "Python 3.12.0\n"
     ]
    }
   ],
   "source": [
    "!python --version"
   ]
  },
  {
   "cell_type": "code",
   "execution_count": 2,
   "id": "3403376f",
   "metadata": {},
   "outputs": [],
   "source": [
    "# !pip install requests py_near py_near_primitives PyNaCl base58 loguru -q"
   ]
  },
  {
   "cell_type": "code",
   "execution_count": 3,
   "id": "1d65f99d",
   "metadata": {},
   "outputs": [
    {
     "data": {
      "text/plain": [
       "True"
      ]
     },
     "execution_count": 3,
     "metadata": {},
     "output_type": "execute_result"
    }
   ],
   "source": [
    "import os\n",
    "import time\n",
    "import datetime as dt\n",
    "from typing import Optional, Dict, Any\n",
    "import requests\n",
    "from py_near.account import Account  # use to send money\n",
    "from dotenv import load_dotenv\n",
    "load_dotenv()"
   ]
  },
  {
   "cell_type": "code",
   "execution_count": 4,
   "id": "37a5e32a",
   "metadata": {},
   "outputs": [],
   "source": [
    "BASE_URL = \"https://1click.chaindefuser.com\"\n",
    "JWT = \"\"\n",
    "# JWT = os.getenv(\"ONECLICK_JWT\")  # put your token in env to avoid fees"
   ]
  },
  {
   "cell_type": "markdown",
   "id": "124e89ee",
   "metadata": {},
   "source": [
    "##### **1) Discover Tokens**"
   ]
  },
  {
   "cell_type": "code",
   "execution_count": 5,
   "id": "9b5aaf57",
   "metadata": {},
   "outputs": [],
   "source": [
    "def _headers() -> Dict[str, str]:\n",
    "    if not JWT:\n",
    "        # You can still call the API, but without the JWT you may incur a small fee.\n",
    "        # See docs for how to obtain a JWT.\n",
    "        pass\n",
    "    return {\n",
    "        \"Authorization\": f\"Bearer {JWT}\" if JWT else \"\",\n",
    "        \"Accept\": \"*/*\",\n",
    "        \"Content-Type\": \"application/json\",\n",
    "    }\n",
    "\n",
    "def list_supported_tokens() -> Any:\n",
    "    \"\"\"GET /v0/tokens\"\"\"\n",
    "    r = requests.get(f\"{BASE_URL}/v0/tokens\", headers=_headers(), timeout=30)\n",
    "    r.raise_for_status()\n",
    "    return r.json()"
   ]
  },
  {
   "cell_type": "code",
   "execution_count": 6,
   "id": "234f366f",
   "metadata": {},
   "outputs": [],
   "source": [
    "tokens = list_supported_tokens()"
   ]
  },
  {
   "cell_type": "code",
   "execution_count": 7,
   "id": "8e6f6d58",
   "metadata": {},
   "outputs": [
    {
     "data": {
      "text/plain": [
       "94"
      ]
     },
     "execution_count": 7,
     "metadata": {},
     "output_type": "execute_result"
    }
   ],
   "source": [
    "len(list(tokens))"
   ]
  },
  {
   "cell_type": "code",
   "execution_count": 8,
   "id": "0f50bea4",
   "metadata": {},
   "outputs": [
    {
     "name": "stdout",
     "output_type": "stream",
     "text": [
      "Supported tokens (truncated): [{'assetId': 'nep141:wrap.near', 'decimals': 24, 'blockchain': 'near', 'symbol': 'wNEAR', 'price': 2.78, 'priceUpdatedAt': '2025-08-10T15:25:30.055Z', 'contractAddress': 'wrap.near'}, {'assetId': 'nep141:eth.bridge.near', 'decimals': 18, 'blockchain': 'near', 'symbol': 'ETH', 'price': 4221.52, 'priceUpdatedAt': '2025-08-10T15:25:30.055Z', 'contractAddress': 'eth.bridge.near'}, {'assetId': 'nep141:17208628f84f5d6ad33f0da3bbbeb27ffcb398eac501a31bd6ad2011e36133a1', 'decimals': 6, 'blockchain': 'near', 'symbol': 'USDC', 'price': 0.999808, 'priceUpdatedAt': '2025-08-10T15:25:30.055Z', 'contractAddress': '17208628f84f5d6ad33f0da3bbbeb27ffcb398eac501a31bd6ad2011e36133a1'}]\n"
     ]
    }
   ],
   "source": [
    "print(\"Supported tokens (truncated):\", tokens[:3])  # sample"
   ]
  },
  {
   "cell_type": "markdown",
   "id": "05487b93",
   "metadata": {},
   "source": [
    "##### **2) DRY quote (preview pricing; no deposit address generated)**\n",
    "\n",
    "| Parameter                             | Type   | Meaning                                                                                                                                                                             |\n",
    "| ------------------------------------- | ------ | ----------------------------------------------------------------------------------------------------------------------------------------------------------------------------------- |\n",
    "| **dry**                               | `bool` | If `True`, preview the quote without creating a deposit address. If `False`, creates a deposit address and locks route parameters.                                                  |\n",
    "| **swap\\_type**                        | `str`  | Trade type: `\"EXACT_INPUT\"` (you specify the exact input amount), `\"EXACT_OUTPUT\"` (you specify the exact output amount you want), or `\"FLEX_INPUT\"` (let the system adjust input). |\n",
    "| **slippage\\_bps**                     | `int`  | Slippage tolerance in **basis points** (bps). `100` = 1% max price movement allowed before failing/refunding.                                                                       |\n",
    "| **origin\\_asset**                     | `str`  | Asset you are sending from the origin chain, formatted as `nep141:<chain>-<address>.omft.near` or similar.                                                                          |\n",
    "| **deposit\\_type**                     | `str`  | How funds are deposited: `\"ORIGIN_CHAIN\"` (send directly on the origin chain) or `\"INTENTS\"` (fund via a virtual chain).                                                            |\n",
    "| **destination\\_asset**                | `str`  | Asset you want to receive on the destination chain (same format as `origin_asset`).                                                                                                 |\n",
    "| **amount**                       | `str`  | Amount of the origin asset in its smallest unit (integer string, e.g., \"1000000\" for 1 USDC with 6 decimals).                                                                       |\n",
    "| **refund\\_to**                        | `str`  | Address that should receive refunds if the swap fails or times out.                                                                                                                 |\n",
    "| **refund\\_type**                      | `str`  | `\"ORIGIN_CHAIN\"` (refund on original chain) or `\"INTENTS\"` (refund via virtual chain).                                                                                              |\n",
    "| **recipient**                         | `str`  | Address that will receive the destination asset. Must match `recipient_type` format.                                                                                                |\n",
    "| **recipient\\_type**                   | `str`  | `\"DESTINATION_CHAIN\"` (deliver directly on the destination chain) or `\"INTENTS\"` (deliver to a virtual chain).                                                                      |\n",
    "| **deadline\\_iso**                     | `str`  | ISO 8601 UTC timestamp for when the quote expires (e.g., `\"2025-08-09T18:59:00Z\"`). Required for live quotes.                                                                       |\n",
    "| **referral**                          | `str`  | Optional referral code or app identifier for tracking.                                                                                                                              |\n",
    "| **quote\\_wait\\_ms**                   | `int`  | Time to wait (ms) for route computation before returning (default `3000`).                                                                                                          |\n",
    "| **app\\_fees**                         | `list` | Optional per-swap fee list, each `{ \"recipient\": \"<address>\", \"fee\": <bps> }`.                                                                                                      |\n",
    "| **virtual\\_chain\\_recipient**         | `str`  | (Optional) Address on a virtual chain to receive funds instead of destination chain.                                                                                                |\n",
    "| **virtual\\_chain\\_refund\\_recipient** | `str`  | (Optional) Address on a virtual chain for refunds instead of origin chain.                                                                                                          |\n"
   ]
  },
  {
   "cell_type": "code",
   "execution_count": 9,
   "id": "5ce8c799",
   "metadata": {},
   "outputs": [],
   "source": [
    "def request_quote(\n",
    "    *,\n",
    "    dry: bool,\n",
    "    swap_type: str,             # \"EXACT_INPUT\" | \"EXACT_OUTPUT\" | \"FLEX_INPUT\"\n",
    "    slippage_bps: int,          # e.g., 100 for 1%\n",
    "    origin_asset: str,          # e.g., \"nep141:arb-0x...omft.near\"\n",
    "    deposit_type: str,          # \"ORIGIN_CHAIN\" | \"INTENTS\"\n",
    "    destination_asset: str,     # e.g., \"nep141:sol-...omft.near\"\n",
    "    amount: str,                # smallest units (string)\n",
    "    refund_to: str,             # address for refunds\n",
    "    refund_type: str,           # \"ORIGIN_CHAIN\" | \"INTENTS\"\n",
    "    recipient: str,             # matches recipientType\n",
    "    recipient_type: str,        # \"DESTINATION_CHAIN\" | \"INTENTS\"\n",
    "    deadline_iso: Optional[str] = None,  # ISO8601; required when dry=False\n",
    "    referral: Optional[str] = None,\n",
    "    quote_wait_ms: int = 3000,\n",
    "    app_fees: Optional[list] = None,\n",
    "    virtual_chain_recipient: Optional[str] = None,\n",
    "    virtual_chain_refund_recipient: Optional[str] = None,\n",
    ") -> Any:\n",
    "    \"\"\"POST /v0/quote\"\"\"\n",
    "    if not deadline_iso:\n",
    "        # reasonable default: now + 90 minutes\n",
    "        deadline_iso = (dt.datetime.utcnow() + dt.timedelta(minutes=90)).replace(microsecond=0).isoformat() + \"Z\"\n",
    "\n",
    "    payload = {\n",
    "        \"dry\": dry,\n",
    "        \"swapType\": swap_type,\n",
    "        \"slippageTolerance\": slippage_bps,\n",
    "        \"originAsset\": origin_asset,\n",
    "        \"depositType\": deposit_type,\n",
    "        \"destinationAsset\": destination_asset,\n",
    "        \"amount\": amount,\n",
    "        \"refundTo\": refund_to,\n",
    "        \"refundType\": refund_type,\n",
    "        \"recipient\": recipient,\n",
    "        \"recipientType\": recipient_type,\n",
    "        \"deadline\": deadline_iso,\n",
    "        \"quoteWaitingTimeMs\": quote_wait_ms,\n",
    "    }\n",
    "    if referral:\n",
    "        payload[\"referral\"] = referral\n",
    "    if app_fees:\n",
    "        payload[\"appFees\"] = app_fees\n",
    "    if virtual_chain_recipient:\n",
    "        payload[\"virtualChainRecipient\"] = virtual_chain_recipient\n",
    "    if virtual_chain_refund_recipient:\n",
    "        payload[\"virtualChainRefundRecipient\"] = virtual_chain_refund_recipient\n",
    "\n",
    "    r = requests.post(f\"{BASE_URL}/v0/quote\", headers=_headers(), json=payload, timeout=60)\n",
    "    r.raise_for_status()\n",
    "    return r.json()"
   ]
  },
  {
   "cell_type": "markdown",
   "id": "22186db1",
   "metadata": {},
   "source": [
    "Test Query #1: \"What is the quote for USDC on Solana for 1 USDC on Arbitrum?\""
   ]
  },
  {
   "cell_type": "code",
   "execution_count": 10,
   "id": "14041d97",
   "metadata": {},
   "outputs": [
    {
     "name": "stderr",
     "output_type": "stream",
     "text": [
      "/tmp/ipykernel_527972/3093258275.py:24: DeprecationWarning: datetime.datetime.utcnow() is deprecated and scheduled for removal in a future version. Use timezone-aware objects to represent datetimes in UTC: datetime.datetime.now(datetime.UTC).\n",
      "  deadline_iso = (dt.datetime.utcnow() + dt.timedelta(minutes=90)).replace(microsecond=0).isoformat() + \"Z\"\n"
     ]
    },
    {
     "name": "stdout",
     "output_type": "stream",
     "text": [
      "DRY quote: {'quote': {'amountIn': '1000000', 'amountInFormatted': '1.0', 'amountInUsd': '0.9998', 'minAmountIn': '1000000', 'amountOut': '589449', 'amountOutFormatted': '0.589449', 'amountOutUsd': '0.5893', 'minAmountOut': '579549', 'timeEstimate': 22}, 'quoteRequest': {'quoteWaitingTimeMs': 3000, 'dry': True, 'swapType': 'EXACT_INPUT', 'slippageTolerance': 100, 'originAsset': 'nep141:arb-0xaf88d065e77c8cc2239327c5edb3a432268e5831.omft.near', 'depositType': 'ORIGIN_CHAIN', 'destinationAsset': 'nep141:sol-5ce3bf3a31af18be40ba30f721101b4341690186.omft.near', 'amount': '1000000', 'refundTo': '0x2527D02599Ba641c19FEa793cD0F167589a0f10D', 'refundType': 'ORIGIN_CHAIN', 'recipient': '13QkxhNMrTPxoCkRdYdJ65tFuwXPhL5gLS2Z5Nr6gjRK', 'recipientType': 'DESTINATION_CHAIN', 'deadline': '2025-08-10T16:56:09.000Z', 'referral': 'myapp', 'appFees': [{'recipient': 'recipient.near', 'fee': 100}]}, 'signature': 'ed25519:4QNZGE2SkiyQrJTJ1LRJ4KZCB5ZFZadfM6t88KVB9DwP4MDyjMnM4YGPFAvcwecQ662dZYvwi9CkLyVSvTWxYu6p', 'timestamp': '2025-08-10T15:26:10.720Z'}\n"
     ]
    }
   ],
   "source": [
    "dry_quote = request_quote(\n",
    "    dry=True,  # preview the quote without creating a deposit address\n",
    "    swap_type=\"EXACT_INPUT\",  # specify the exact input amount\n",
    "    slippage_bps=100,  # 1%\n",
    "    origin_asset=\"nep141:arb-0xaf88d065e77c8cc2239327c5edb3a432268e5831.omft.near\",  # Asset (USDC) you are sending from the origin chain (Arbitrum)\n",
    "    deposit_type=\"ORIGIN_CHAIN\",  # how funds are deposited, send directly on the origin chain\n",
    "    destination_asset=\"nep141:sol-5ce3bf3a31af18be40ba30f721101b4341690186.omft.near\",  # Asset (USDC) you want to receive on the destination chain (Solana)\n",
    "    amount=\"1000000\",  # example: smallest amount unit, 1.0 token if decimals=6\n",
    "    refund_to=\"0x2527D02599Ba641c19FEa793cD0F167589a0f10D\",  # Address that should receive refunds if the swap fails or times out.\n",
    "    refund_type=\"ORIGIN_CHAIN\",\n",
    "    recipient=\"13QkxhNMrTPxoCkRdYdJ65tFuwXPhL5gLS2Z5Nr6gjRK\",  # Address that will receive the destination asset. Must match recipient_type format.\n",
    "    recipient_type=\"DESTINATION_CHAIN\",\n",
    "    referral=\"myapp\",\n",
    "    quote_wait_ms=3000,\n",
    "    app_fees=[{\"recipient\": \"recipient.near\", \"fee\": 100}],  # 100 bps = 1%\n",
    ")\n",
    "print(\"DRY quote:\", dry_quote)"
   ]
  },
  {
   "cell_type": "code",
   "execution_count": 11,
   "id": "1c22b9ba",
   "metadata": {},
   "outputs": [
    {
     "data": {
      "text/plain": [
       "{'quote': {'amountIn': '1000000',\n",
       "  'amountInFormatted': '1.0',\n",
       "  'amountInUsd': '0.9998',\n",
       "  'minAmountIn': '1000000',\n",
       "  'amountOut': '589449',\n",
       "  'amountOutFormatted': '0.589449',\n",
       "  'amountOutUsd': '0.5893',\n",
       "  'minAmountOut': '579549',\n",
       "  'timeEstimate': 22},\n",
       " 'quoteRequest': {'quoteWaitingTimeMs': 3000,\n",
       "  'dry': True,\n",
       "  'swapType': 'EXACT_INPUT',\n",
       "  'slippageTolerance': 100,\n",
       "  'originAsset': 'nep141:arb-0xaf88d065e77c8cc2239327c5edb3a432268e5831.omft.near',\n",
       "  'depositType': 'ORIGIN_CHAIN',\n",
       "  'destinationAsset': 'nep141:sol-5ce3bf3a31af18be40ba30f721101b4341690186.omft.near',\n",
       "  'amount': '1000000',\n",
       "  'refundTo': '0x2527D02599Ba641c19FEa793cD0F167589a0f10D',\n",
       "  'refundType': 'ORIGIN_CHAIN',\n",
       "  'recipient': '13QkxhNMrTPxoCkRdYdJ65tFuwXPhL5gLS2Z5Nr6gjRK',\n",
       "  'recipientType': 'DESTINATION_CHAIN',\n",
       "  'deadline': '2025-08-10T16:56:09.000Z',\n",
       "  'referral': 'myapp',\n",
       "  'appFees': [{'recipient': 'recipient.near', 'fee': 100}]},\n",
       " 'signature': 'ed25519:4QNZGE2SkiyQrJTJ1LRJ4KZCB5ZFZadfM6t88KVB9DwP4MDyjMnM4YGPFAvcwecQ662dZYvwi9CkLyVSvTWxYu6p',\n",
       " 'timestamp': '2025-08-10T15:26:10.720Z'}"
      ]
     },
     "execution_count": 11,
     "metadata": {},
     "output_type": "execute_result"
    }
   ],
   "source": [
    "dry_quote"
   ]
  },
  {
   "cell_type": "markdown",
   "id": "4eb475c6",
   "metadata": {},
   "source": [
    "Test Query #2: \"What is the quote for SOL on Solana for 5 USDC on NEAR?\""
   ]
  },
  {
   "cell_type": "code",
   "execution_count": 12,
   "metadata": {},
   "outputs": [],
   "source": [
    "# dry_quote = request_quote(\n",
    "#     dry=True,  # preview the quote without creating a deposit address\n",
    "#     swap_type=\"EXACT_INPUT\",  # specify the exact input amount\n",
    "#     slippage_bps=100,  # 1%\n",
    "#     origin_asset=\"nep141:17208628f84f5d6ad33f0da3bbbeb27ffcb398eac501a31bd6ad2011e36133a1\",  # Asset (USDC) you are sending from the origin chain (NEAR)\n",
    "#     deposit_type=\"ORIGIN_CHAIN\",  # how funds are deposited, send directly on the origin chain\n",
    "#     destination_asset=\"nep141:sol.omft.near\",  # Asset (SOL) you want to receive on the destination chain (Solana)\n",
    "#     amount=str(5*10**24),  # example: 100000 token if decimals=6 like in Ethereum wei, or 10^24 for NEAR\n",
    "#     # amount=\"5\",  # example: 100000 token if decimals=6 like in Ethereum wei, or 10^24 for NEAR\n",
    "#     refund_to=\"temporai.near\",  # Address that should receive refunds if the swap fails or times out.\n",
    "#     refund_type=\"ORIGIN_CHAIN\",\n",
    "#     recipient=\"eGi2M1awdgWNTB4EJC87DesHUyDgHxHS8e5bEcTyc3E\",  # Address that will receive the destination asset. Must match recipient_type format.\n",
    "#     recipient_type=\"DESTINATION_CHAIN\",\n",
    "#     referral=\"myapp\",\n",
    "#     quote_wait_ms=3000,\n",
    "#     app_fees=[{\"recipient\": \"recipient.near\", \"fee\": 100}],  # 100 bps = 1%\n",
    "# )\n",
    "# print(\"DRY quote:\", dry_quote)"
   ]
  },
  {
   "cell_type": "markdown",
   "id": "f5301e37",
   "metadata": {},
   "source": [
    "##### **3) Live quote (generates a unique deposit address you will fund)**"
   ]
  },
  {
   "cell_type": "markdown",
   "id": "36e7572d",
   "metadata": {},
   "source": [
    "Setup NEAR account info"
   ]
  },
  {
   "cell_type": "code",
   "execution_count": 13,
   "id": "e22e0074",
   "metadata": {},
   "outputs": [],
   "source": [
    "account_id = os.getenv(\"NEAR_ACCOUNT_ID\")\n",
    "private_key = os.getenv(\"NEAR_PRIVATE_KEY\")\n",
    "rpc = \"https://free.rpc.fastnear.com\"\n",
    "acc = Account(account_id, private_key, rpc)"
   ]
  },
  {
   "cell_type": "markdown",
   "id": "d4bd2fcd",
   "metadata": {},
   "source": [
    "Test Quote #3: \"What is the quote for 0.02 NEAR on NEAR for USDC on Arbitrium?\""
   ]
  },
  {
   "cell_type": "code",
   "execution_count": 14,
   "id": "413bbff3",
   "metadata": {},
   "outputs": [
    {
     "data": {
      "text/plain": [
       "'20000000000000000000000'"
      ]
     },
     "execution_count": 14,
     "metadata": {},
     "output_type": "execute_result"
    }
   ],
   "source": [
    "amount = \"2\" + \"0\"*22\n",
    "amount"
   ]
  },
  {
   "cell_type": "code",
   "execution_count": 15,
   "id": "322fe88c",
   "metadata": {},
   "outputs": [
    {
     "name": "stderr",
     "output_type": "stream",
     "text": [
      "/tmp/ipykernel_527972/3093258275.py:24: DeprecationWarning: datetime.datetime.utcnow() is deprecated and scheduled for removal in a future version. Use timezone-aware objects to represent datetimes in UTC: datetime.datetime.now(datetime.UTC).\n",
      "  deadline_iso = (dt.datetime.utcnow() + dt.timedelta(minutes=90)).replace(microsecond=0).isoformat() + \"Z\"\n"
     ]
    },
    {
     "name": "stdout",
     "output_type": "stream",
     "text": [
      "LIVE quote: {'quote': {'amountIn': '20000000000000000000000', 'amountInFormatted': '0.02', 'amountInUsd': '0.0556', 'minAmountIn': '20000000000000000000000', 'amountOut': '50431', 'amountOutFormatted': '0.050431', 'amountOutUsd': '0.0504', 'minAmountOut': '49873', 'timeEstimate': 19, 'deadline': '2025-08-11T15:26:17.301Z', 'timeWhenInactive': '2025-08-11T15:26:17.301Z', 'depositAddress': 'b05957e6b7f7d0554b50bcdfe2a8bc818f181c7c3b3b672cb5715e801f1e71cb'}, 'quoteRequest': {'quoteWaitingTimeMs': 3000, 'dry': False, 'swapType': 'EXACT_INPUT', 'slippageTolerance': 100, 'originAsset': 'nep141:wrap.near', 'depositType': 'ORIGIN_CHAIN', 'destinationAsset': 'nep141:arb-0xaf88d065e77c8cc2239327c5edb3a432268e5831.omft.near', 'amount': '20000000000000000000000', 'refundTo': 'temporai.near', 'refundType': 'ORIGIN_CHAIN', 'recipient': '0xf00A3bA7C7f1840D50f243Cc0527D1425aE497C2', 'recipientType': 'DESTINATION_CHAIN', 'deadline': '2025-08-10T16:56:12.000Z', 'referral': 'myapp'}, 'signature': 'ed25519:5h1pSUgjbovaFNaLHurgfMaeAQvJGb8CjS6zhzhDA79B8JX5UUD2H5yA7tN8zFxguXm6f9yia6WNsScd9mm9rTjs', 'timestamp': '2025-08-10T15:26:14.150Z'}\n"
     ]
    }
   ],
   "source": [
    "live_quote = request_quote(\n",
    "    dry=False,\n",
    "    swap_type=\"EXACT_INPUT\",\n",
    "    slippage_bps=100,\n",
    "    origin_asset=\"nep141:wrap.near\",\n",
    "    deposit_type=\"ORIGIN_CHAIN\",\n",
    "    destination_asset=\"nep141:arb-0xaf88d065e77c8cc2239327c5edb3a432268e5831.omft.near\",\n",
    "    amount=amount,  # 0.02 NEAR, 24 decimals for NEAR\n",
    "    refund_to=account_id,\n",
    "    refund_type=\"ORIGIN_CHAIN\",\n",
    "    recipient=\"0xf00A3bA7C7f1840D50f243Cc0527D1425aE497C2\",\n",
    "    recipient_type=\"DESTINATION_CHAIN\",\n",
    "    referral=\"myapp\",\n",
    ")\n",
    "print(\"LIVE quote:\", live_quote)"
   ]
  },
  {
   "cell_type": "markdown",
   "id": "a117a2c5",
   "metadata": {},
   "source": [
    "Get deposit address"
   ]
  },
  {
   "cell_type": "code",
   "execution_count": 16,
   "id": "c9ce0b33",
   "metadata": {},
   "outputs": [
    {
     "name": "stdout",
     "output_type": "stream",
     "text": [
      "Deposit to: b05957e6b7f7d0554b50bcdfe2a8bc818f181c7c3b3b672cb5715e801f1e71cb\n"
     ]
    }
   ],
   "source": [
    "deposit_address = live_quote[\"quote\"][\"depositAddress\"]\n",
    "print(\"Deposit to:\", deposit_address)"
   ]
  },
  {
   "cell_type": "markdown",
   "id": "c6bc4d96",
   "metadata": {},
   "source": [
    "##### **4) Transfer NEAR to Deposit Address**"
   ]
  },
  {
   "cell_type": "code",
   "execution_count": 17,
   "id": "58687e0c",
   "metadata": {},
   "outputs": [],
   "source": [
    "tx = await acc.send_money(deposit_address, int(amount))  # send 0.01 NEAR to deposit address"
   ]
  },
  {
   "cell_type": "code",
   "execution_count": 18,
   "id": "ed85b7ed",
   "metadata": {},
   "outputs": [
    {
     "data": {
      "text/plain": [
       "('6rpj1ufHfi5VSjaYYScE6EUAxKDFJqWHFUpL6eQzCGz4', {'SuccessValue': ''})"
      ]
     },
     "execution_count": 18,
     "metadata": {},
     "output_type": "execute_result"
    }
   ],
   "source": [
    "tx.transaction.hash, tx.status"
   ]
  },
  {
   "cell_type": "markdown",
   "id": "c8ecb0e3",
   "metadata": {},
   "source": [
    "##### **5) Get status of the deposited NEAR**"
   ]
  },
  {
   "cell_type": "code",
   "execution_count": 19,
   "id": "0e2df827",
   "metadata": {},
   "outputs": [],
   "source": [
    "def submit_deposit_tx(tx_hash: str, deposit_address: str) -> Any:\n",
    "    \"\"\"POST /v0/deposit/submit  (optional but speeds up processing)\"\"\"\n",
    "    payload = {\"txHash\": tx_hash, \"depositAddress\": deposit_address}\n",
    "    r = requests.post(f\"{BASE_URL}/v0/deposit/submit\", headers=_headers(), json=payload, timeout=30)\n",
    "    r.raise_for_status()\n",
    "    return r.json()\n",
    "\n",
    "def get_status(deposit_address: str) -> Any:\n",
    "    \"\"\"GET /v0/status?depositAddress=...\"\"\"\n",
    "    r = requests.get(f\"{BASE_URL}/v0/status\", headers=_headers(), params={\"depositAddress\": deposit_address}, timeout=30)\n",
    "    r.raise_for_status()\n",
    "    return r.json()"
   ]
  },
  {
   "cell_type": "code",
   "execution_count": 27,
   "id": "b468032c",
   "metadata": {},
   "outputs": [
    {
     "data": {
      "text/plain": [
       "{'status': 'SUCCESS',\n",
       " 'updatedAt': '2025-08-10T15:27:12.000Z',\n",
       " 'swapDetails': {'intentHashes': ['2gswdXMQuh8dVcQ8vtxxeCTuVMT8kTT84pCwfo7LPQCa'],\n",
       "  'nearTxHashes': ['5YLGxBkTsVDeMetabbWshzFFFQ2H5HLs1miNpZVQMTZ5',\n",
       "   'AtBhQiaXxeb72zU7ZpQnDvhW5j6mqmDmAk6HjGHNLe6A'],\n",
       "  'amountIn': '20000000000000000000000',\n",
       "  'amountInFormatted': '0.02',\n",
       "  'amountInUsd': '0.0556',\n",
       "  'amountOut': '50462',\n",
       "  'amountOutFormatted': '0.050462',\n",
       "  'amountOutUsd': '0.0505',\n",
       "  'slippage': -6,\n",
       "  'refundedAmount': '0',\n",
       "  'refundedAmountFormatted': '0',\n",
       "  'refundedAmountUsd': '0',\n",
       "  'originChainTxHashes': [],\n",
       "  'destinationChainTxHashes': [{'hash': '0x804b3415249c89895811b4d833bf91ca2dde8558b088d23064ac4acf2dfe6d4f',\n",
       "    'explorerUrl': ''}]},\n",
       " 'quoteResponse': {'timestamp': '2025-08-10T15:26:14.150Z',\n",
       "  'signature': 'ed25519:5h1pSUgjbovaFNaLHurgfMaeAQvJGb8CjS6zhzhDA79B8JX5UUD2H5yA7tN8zFxguXm6f9yia6WNsScd9mm9rTjs',\n",
       "  'quoteRequest': {'dry': False,\n",
       "   'swapType': 'EXACT_INPUT',\n",
       "   'slippageTolerance': 100,\n",
       "   'originAsset': 'nep141:wrap.near',\n",
       "   'depositType': 'ORIGIN_CHAIN',\n",
       "   'destinationAsset': 'nep141:arb-0xaf88d065e77c8cc2239327c5edb3a432268e5831.omft.near',\n",
       "   'amount': '20000000000000000000000',\n",
       "   'refundTo': 'temporai.near',\n",
       "   'refundType': 'ORIGIN_CHAIN',\n",
       "   'recipient': '0xf00A3bA7C7f1840D50f243Cc0527D1425aE497C2',\n",
       "   'recipientType': 'DESTINATION_CHAIN',\n",
       "   'deadline': '2025-08-10T16:56:12.000Z',\n",
       "   'appFees': [],\n",
       "   'virtualChainRecipient': None,\n",
       "   'virtualChainRefundRecipient': None},\n",
       "  'quote': {'amountIn': '20000000000000000000000',\n",
       "   'amountInFormatted': '0.02',\n",
       "   'amountInUsd': '0.0556',\n",
       "   'minAmountIn': '20000000000000000000000',\n",
       "   'amountOut': '50431',\n",
       "   'amountOutFormatted': '0.050431',\n",
       "   'amountOutUsd': '0.0504',\n",
       "   'minAmountOut': '49873',\n",
       "   'timeWhenInactive': '2025-08-11T15:26:17.301Z',\n",
       "   'depositAddress': 'b05957e6b7f7d0554b50bcdfe2a8bc818f181c7c3b3b672cb5715e801f1e71cb',\n",
       "   'deadline': '2025-08-11T15:26:17.301Z',\n",
       "   'timeEstimate': 19}}}"
      ]
     },
     "execution_count": 27,
     "metadata": {},
     "output_type": "execute_result"
    }
   ],
   "source": [
    "get_status(deposit_address)"
   ]
  },
  {
   "cell_type": "code",
   "execution_count": 21,
   "id": "be1bae25",
   "metadata": {},
   "outputs": [],
   "source": [
    "# submit_res = submit_deposit_tx(tx_hash=\"0x123abc456def789\", deposit_address=deposit_address)"
   ]
  },
  {
   "cell_type": "markdown",
   "id": "ec434db1",
   "metadata": {},
   "source": [
    "##### **Example Usage**"
   ]
  },
  {
   "cell_type": "code",
   "execution_count": 22,
   "id": "283d4788",
   "metadata": {},
   "outputs": [],
   "source": [
    "\n",
    "# # -------------------------\n",
    "# # Example usage (adjust as needed)\n",
    "# # -------------------------\n",
    "# if __name__ == \"__main__\":\n",
    "#     # 1) Discover tokens\n",
    "#     tokens = list_supported_tokens()\n",
    "#     print(\"Supported tokens (truncated):\", tokens[:3])  # sample\n",
    "\n",
    "#     # 2) DRY quote (preview pricing; no deposit address generated)\n",
    "#     dry_quote = request_quote(\n",
    "#         dry=True,\n",
    "#         swap_type=\"EXACT_INPUT\",\n",
    "#         slippage_bps=100,  # 1%\n",
    "#         origin_asset=\"nep141:arb-0xaf88d065e77c8cc2239327c5edb3a432268e5831.omft.near\",\n",
    "#         deposit_type=\"ORIGIN_CHAIN\",\n",
    "#         destination_asset=\"nep141:sol-5ce3bf3a31af18be40ba30f721101b4341690186.omft.near\",\n",
    "#         amount_wei=\"1000000\",  # example: 1.0 token if decimals=6\n",
    "#         refund_to=\"0x2527D02599Ba641c19FEa793cD0F167589a0f10D\",\n",
    "#         refund_type=\"ORIGIN_CHAIN\",\n",
    "#         recipient=\"13QkxhNMrTPxoCkRdYdJ65tFuwXPhL5gLS2Z5Nr6gjRK\",\n",
    "#         recipient_type=\"DESTINATION_CHAIN\",\n",
    "#         referral=\"myapp\",\n",
    "#         quote_wait_ms=3000,\n",
    "#         app_fees=[{\"recipient\": \"recipient.near\", \"fee\": 100}],  # 100 bps = 1%\n",
    "#     )\n",
    "#     print(\"DRY quote:\", dry_quote)\n",
    "\n",
    "#     # 3) Live quote (generates a unique deposit address you will fund)\n",
    "#     live_quote = request_quote(\n",
    "#         dry=False,\n",
    "#         swap_type=\"EXACT_INPUT\",\n",
    "#         slippage_bps=100,\n",
    "#         origin_asset=\"nep141:arb-0xaf88d065e77c8cc2239327c5edb3a432268e5831.omft.near\",\n",
    "#         deposit_type=\"ORIGIN_CHAIN\",\n",
    "#         destination_asset=\"nep141:sol-5ce3bf3a31af18be40ba30f721101b4341690186.omft.near\",\n",
    "#         amount_wei=\"1000000\",\n",
    "#         refund_to=\"0x2527D02599Ba641c19FEa793cD0F167589a0f10D\",\n",
    "#         refund_type=\"ORIGIN_CHAIN\",\n",
    "#         recipient=\"13QkxhNMrTPxoCkRdYdJ65tFuwXPhL5gLS2Z5Nr6gjRK\",\n",
    "#         recipient_type=\"DESTINATION_CHAIN\",\n",
    "#         referral=\"myapp\",\n",
    "#     )\n",
    "#     deposit_address = live_quote[\"quote\"][\"depositAddress\"]\n",
    "#     print(\"Deposit to:\", deposit_address)\n",
    "\n",
    "#     # 4) (You send tokens to deposit_address on the origin chain)\n",
    "#     # Optional: tell 1Click the tx hash immediately to speed up processing:\n",
    "#     # submit_res = submit_deposit_tx(tx_hash=\"0x123abc456def789\", deposit_address=deposit_address)\n",
    "#     # print(\"Submitted deposit tx:\", submit_res)\n",
    "\n",
    "#     # 5) Poll for status until success/refund\n",
    "#     for _ in range(30):\n",
    "#         status = get_status(deposit_address)\n",
    "#         print(\"Status:\", status.get(\"status\"))\n",
    "#         if status.get(\"status\") in {\"SUCCESS\", \"REFUNDED\", \"FAILED\"}:\n",
    "#             break\n",
    "#         time.sleep(10)"
   ]
  },
  {
   "cell_type": "code",
   "execution_count": null,
   "id": "109118a5",
   "metadata": {},
   "outputs": [],
   "source": []
  }
 ],
 "metadata": {
  "kernelspec": {
   "display_name": "near",
   "language": "python",
   "name": "python3"
  },
  "language_info": {
   "codemirror_mode": {
    "name": "ipython",
    "version": 3
   },
   "file_extension": ".py",
   "mimetype": "text/x-python",
   "name": "python",
   "nbconvert_exporter": "python",
   "pygments_lexer": "ipython3",
   "version": "3.12.0"
  }
 },
 "nbformat": 4,
 "nbformat_minor": 5
}
