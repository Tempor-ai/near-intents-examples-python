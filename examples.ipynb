{
 "cells": [
  {
   "cell_type": "markdown",
   "id": "1f694233",
   "metadata": {},
   "source": [
    "### NEAR Intents Examples Notebook"
   ]
  },
  {
   "cell_type": "code",
   "execution_count": 3,
   "id": "3403376f",
   "metadata": {},
   "outputs": [],
   "source": [
    "# !pip install requests -q"
   ]
  },
  {
   "cell_type": "code",
   "execution_count": 6,
   "id": "f0d56ffa",
   "metadata": {},
   "outputs": [],
   "source": [
    "import os\n",
    "import time\n",
    "import datetime as dt\n",
    "from typing import Optional, Dict, Any\n",
    "import requests"
   ]
  },
  {
   "cell_type": "code",
   "execution_count": 13,
   "id": "37a5e32a",
   "metadata": {},
   "outputs": [],
   "source": [
    "BASE_URL = \"https://1click.chaindefuser.com\"\n",
    "JWT = \"\"\n",
    "# JWT = os.getenv(\"ONECLICK_JWT\")  # put your token in env to avoid fees"
   ]
  },
  {
   "cell_type": "markdown",
   "id": "124e89ee",
   "metadata": {},
   "source": [
    "##### **Methods**"
   ]
  },
  {
   "cell_type": "code",
   "execution_count": 14,
   "id": "9b5aaf57",
   "metadata": {},
   "outputs": [],
   "source": [
    "def _headers() -> Dict[str, str]:\n",
    "    if not JWT:\n",
    "        # You can still call the API, but without the JWT you may incur a small fee.\n",
    "        # See docs for how to obtain a JWT.\n",
    "        pass\n",
    "    return {\n",
    "        \"Authorization\": f\"Bearer {JWT}\" if JWT else \"\",\n",
    "        \"Accept\": \"*/*\",\n",
    "        \"Content-Type\": \"application/json\",\n",
    "    }\n"
   ]
  },
  {
   "cell_type": "code",
   "execution_count": 15,
   "id": "234f366f",
   "metadata": {},
   "outputs": [],
   "source": [
    "def list_supported_tokens() -> Any:\n",
    "    \"\"\"GET /v0/tokens\"\"\"\n",
    "    r = requests.get(f\"{BASE_URL}/v0/tokens\", headers=_headers(), timeout=30)\n",
    "    r.raise_for_status()\n",
    "    return r.json()"
   ]
  },
  {
   "cell_type": "code",
   "execution_count": 16,
   "id": "22186db1",
   "metadata": {},
   "outputs": [],
   "source": [
    "def request_quote(\n",
    "    *,\n",
    "    dry: bool,\n",
    "    swap_type: str,             # \"EXACT_INPUT\" | \"EXACT_OUTPUT\" | \"FLEX_INPUT\"\n",
    "    slippage_bps: int,          # e.g., 100 for 1%\n",
    "    origin_asset: str,          # e.g., \"nep141:arb-0x...omft.near\"\n",
    "    deposit_type: str,          # \"ORIGIN_CHAIN\" | \"INTENTS\"\n",
    "    destination_asset: str,     # e.g., \"nep141:sol-...omft.near\"\n",
    "    amount_wei: str,            # smallest units (string)\n",
    "    refund_to: str,             # address for refunds\n",
    "    refund_type: str,           # \"ORIGIN_CHAIN\" | \"INTENTS\"\n",
    "    recipient: str,             # matches recipientType\n",
    "    recipient_type: str,        # \"DESTINATION_CHAIN\" | \"INTENTS\"\n",
    "    deadline_iso: Optional[str] = None,  # ISO8601; required when dry=False\n",
    "    referral: Optional[str] = None,\n",
    "    quote_wait_ms: int = 3000,\n",
    "    app_fees: Optional[list] = None,\n",
    "    virtual_chain_recipient: Optional[str] = None,\n",
    "    virtual_chain_refund_recipient: Optional[str] = None,\n",
    ") -> Any:\n",
    "    \"\"\"POST /v0/quote\"\"\"\n",
    "    if not deadline_iso:\n",
    "        # reasonable default: now + 90 minutes\n",
    "        deadline_iso = (dt.datetime.utcnow() + dt.timedelta(minutes=90)).replace(microsecond=0).isoformat() + \"Z\"\n",
    "\n",
    "    payload = {\n",
    "        \"dry\": dry,\n",
    "        \"swapType\": swap_type,\n",
    "        \"slippageTolerance\": slippage_bps,\n",
    "        \"originAsset\": origin_asset,\n",
    "        \"depositType\": deposit_type,\n",
    "        \"destinationAsset\": destination_asset,\n",
    "        \"amount\": amount_wei,\n",
    "        \"refundTo\": refund_to,\n",
    "        \"refundType\": refund_type,\n",
    "        \"recipient\": recipient,\n",
    "        \"recipientType\": recipient_type,\n",
    "        \"deadline\": deadline_iso,\n",
    "        \"quoteWaitingTimeMs\": quote_wait_ms,\n",
    "    }\n",
    "    if referral:\n",
    "        payload[\"referral\"] = referral\n",
    "    if app_fees:\n",
    "        payload[\"appFees\"] = app_fees\n",
    "    if virtual_chain_recipient:\n",
    "        payload[\"virtualChainRecipient\"] = virtual_chain_recipient\n",
    "    if virtual_chain_refund_recipient:\n",
    "        payload[\"virtualChainRefundRecipient\"] = virtual_chain_refund_recipient\n",
    "\n",
    "    r = requests.post(f\"{BASE_URL}/v0/quote\", headers=_headers(), json=payload, timeout=60)\n",
    "    r.raise_for_status()\n",
    "    return r.json()"
   ]
  },
  {
   "cell_type": "code",
   "execution_count": 17,
   "id": "daa64429",
   "metadata": {},
   "outputs": [],
   "source": [
    "def submit_deposit_tx(tx_hash: str, deposit_address: str) -> Any:\n",
    "    \"\"\"POST /v0/deposit/submit  (optional but speeds up processing)\"\"\"\n",
    "    payload = {\"txHash\": tx_hash, \"depositAddress\": deposit_address}\n",
    "    r = requests.post(f\"{BASE_URL}/v0/deposit/submit\", headers=_headers(), json=payload, timeout=30)\n",
    "    r.raise_for_status()\n",
    "    return r.json()"
   ]
  },
  {
   "cell_type": "code",
   "execution_count": 18,
   "id": "2e03341c",
   "metadata": {},
   "outputs": [],
   "source": [
    "def get_status(deposit_address: str) -> Any:\n",
    "    \"\"\"GET /v0/status?depositAddress=...\"\"\"\n",
    "    r = requests.get(f\"{BASE_URL}/v0/status\", headers=_headers(), params={\"depositAddress\": deposit_address}, timeout=30)\n",
    "    r.raise_for_status()\n",
    "    return r.json()"
   ]
  },
  {
   "cell_type": "markdown",
   "id": "40b4a327",
   "metadata": {},
   "source": [
    "##### **Testing**"
   ]
  },
  {
   "cell_type": "markdown",
   "id": "cb2d2965",
   "metadata": {},
   "source": [
    "**1) Discover tokens**"
   ]
  },
  {
   "cell_type": "code",
   "execution_count": 20,
   "id": "e81909e9",
   "metadata": {},
   "outputs": [],
   "source": [
    "tokens = list_supported_tokens()"
   ]
  },
  {
   "cell_type": "code",
   "execution_count": 23,
   "id": "0fa5006d",
   "metadata": {},
   "outputs": [
    {
     "data": {
      "text/plain": [
       "94"
      ]
     },
     "execution_count": 23,
     "metadata": {},
     "output_type": "execute_result"
    }
   ],
   "source": [
    "len(list(tokens))"
   ]
  },
  {
   "cell_type": "code",
   "execution_count": 24,
   "id": "20c4a217",
   "metadata": {},
   "outputs": [],
   "source": [
    "# tokens"
   ]
  },
  {
   "cell_type": "code",
   "execution_count": 25,
   "id": "988cfb0b",
   "metadata": {},
   "outputs": [
    {
     "name": "stdout",
     "output_type": "stream",
     "text": [
      "Supported tokens (truncated): [{'assetId': 'nep141:wrap.near', 'decimals': 24, 'blockchain': 'near', 'symbol': 'wNEAR', 'price': 2.82, 'priceUpdatedAt': '2025-08-09T23:23:00.051Z', 'contractAddress': 'wrap.near'}, {'assetId': 'nep141:eth.bridge.near', 'decimals': 18, 'blockchain': 'near', 'symbol': 'ETH', 'price': 4257.59, 'priceUpdatedAt': '2025-08-09T23:23:00.051Z', 'contractAddress': 'eth.bridge.near'}, {'assetId': 'nep141:17208628f84f5d6ad33f0da3bbbeb27ffcb398eac501a31bd6ad2011e36133a1', 'decimals': 6, 'blockchain': 'near', 'symbol': 'USDC', 'price': 0.999744, 'priceUpdatedAt': '2025-08-09T23:23:00.051Z', 'contractAddress': '17208628f84f5d6ad33f0da3bbbeb27ffcb398eac501a31bd6ad2011e36133a1'}]\n"
     ]
    }
   ],
   "source": [
    "print(\"Supported tokens (truncated):\", tokens[:3])  # sample"
   ]
  },
  {
   "cell_type": "markdown",
   "id": "1ea5fb88",
   "metadata": {},
   "source": [
    "**2) DRY quote (preview pricing; no deposit address generated)**\n",
    "\n",
    "| Parameter                             | Type   | Meaning                                                                                                                                                                             |\n",
    "| ------------------------------------- | ------ | ----------------------------------------------------------------------------------------------------------------------------------------------------------------------------------- |\n",
    "| **dry**                               | `bool` | If `True`, preview the quote without creating a deposit address. If `False`, creates a deposit address and locks route parameters.                                                  |\n",
    "| **swap\\_type**                        | `str`  | Trade type: `\"EXACT_INPUT\"` (you specify the exact input amount), `\"EXACT_OUTPUT\"` (you specify the exact output amount you want), or `\"FLEX_INPUT\"` (let the system adjust input). |\n",
    "| **slippage\\_bps**                     | `int`  | Slippage tolerance in **basis points** (bps). `100` = 1% max price movement allowed before failing/refunding.                                                                       |\n",
    "| **origin\\_asset**                     | `str`  | Asset you are sending from the origin chain, formatted as `nep141:<chain>-<address>.omft.near` or similar.                                                                          |\n",
    "| **deposit\\_type**                     | `str`  | How funds are deposited: `\"ORIGIN_CHAIN\"` (send directly on the origin chain) or `\"INTENTS\"` (fund via a virtual chain).                                                            |\n",
    "| **destination\\_asset**                | `str`  | Asset you want to receive on the destination chain (same format as `origin_asset`).                                                                                                 |\n",
    "| **amount\\_wei**                       | `str`  | Amount of the origin asset in its smallest unit (integer string, e.g., \"1000000\" for 1 USDC with 6 decimals).                                                                       |\n",
    "| **refund\\_to**                        | `str`  | Address that should receive refunds if the swap fails or times out.                                                                                                                 |\n",
    "| **refund\\_type**                      | `str`  | `\"ORIGIN_CHAIN\"` (refund on original chain) or `\"INTENTS\"` (refund via virtual chain).                                                                                              |\n",
    "| **recipient**                         | `str`  | Address that will receive the destination asset. Must match `recipient_type` format.                                                                                                |\n",
    "| **recipient\\_type**                   | `str`  | `\"DESTINATION_CHAIN\"` (deliver directly on the destination chain) or `\"INTENTS\"` (deliver to a virtual chain).                                                                      |\n",
    "| **deadline\\_iso**                     | `str`  | ISO 8601 UTC timestamp for when the quote expires (e.g., `\"2025-08-09T18:59:00Z\"`). Required for live quotes.                                                                       |\n",
    "| **referral**                          | `str`  | Optional referral code or app identifier for tracking.                                                                                                                              |\n",
    "| **quote\\_wait\\_ms**                   | `int`  | Time to wait (ms) for route computation before returning (default `3000`).                                                                                                          |\n",
    "| **app\\_fees**                         | `list` | Optional per-swap fee list, each `{ \"recipient\": \"<address>\", \"fee\": <bps> }`.                                                                                                      |\n",
    "| **virtual\\_chain\\_recipient**         | `str`  | (Optional) Address on a virtual chain to receive funds instead of destination chain.                                                                                                |\n",
    "| **virtual\\_chain\\_refund\\_recipient** | `str`  | (Optional) Address on a virtual chain for refunds instead of origin chain.                                                                                                          |\n"
   ]
  },
  {
   "cell_type": "code",
   "execution_count": null,
   "id": "193a9484",
   "metadata": {},
   "outputs": [
    {
     "name": "stderr",
     "output_type": "stream",
     "text": [
      "/tmp/ipykernel_164851/2870745585.py:24: DeprecationWarning: datetime.datetime.utcnow() is deprecated and scheduled for removal in a future version. Use timezone-aware objects to represent datetimes in UTC: datetime.datetime.now(datetime.UTC).\n",
      "  deadline_iso = (dt.datetime.utcnow() + dt.timedelta(minutes=90)).replace(microsecond=0).isoformat() + \"Z\"\n"
     ]
    },
    {
     "name": "stdout",
     "output_type": "stream",
     "text": [
      "DRY quote: {'quote': {'amountIn': '1000000', 'amountInFormatted': '1.0', 'amountInUsd': '0.9998', 'minAmountIn': '1000000', 'amountOut': '592526', 'amountOutFormatted': '0.592526', 'amountOutUsd': '0.5924', 'minAmountOut': '582626', 'timeEstimate': 22}, 'quoteRequest': {'quoteWaitingTimeMs': 3000, 'dry': True, 'swapType': 'EXACT_INPUT', 'slippageTolerance': 100, 'originAsset': 'nep141:arb-0xaf88d065e77c8cc2239327c5edb3a432268e5831.omft.near', 'depositType': 'ORIGIN_CHAIN', 'destinationAsset': 'nep141:sol-5ce3bf3a31af18be40ba30f721101b4341690186.omft.near', 'amount': '1000000', 'refundTo': '0x2527D02599Ba641c19FEa793cD0F167589a0f10D', 'refundType': 'ORIGIN_CHAIN', 'recipient': '13QkxhNMrTPxoCkRdYdJ65tFuwXPhL5gLS2Z5Nr6gjRK', 'recipientType': 'DESTINATION_CHAIN', 'deadline': '2025-08-10T01:11:51.000Z', 'referral': 'myapp', 'appFees': [{'recipient': 'recipient.near', 'fee': 100}]}, 'signature': 'ed25519:4MFrt6Jj12cidyZGk5qTMXty7nSeGQMtnzdsDKyQr4UR8mvgm8BGLpvQ4ZuZDrBBD5XiTJg4uuNxxhe4hF9zuZnY', 'timestamp': '2025-08-09T23:41:52.374Z'}\n"
     ]
    }
   ],
   "source": [
    "dry_quote = request_quote(\n",
    "    dry=True,  # preview the quote without creating a deposit address\n",
    "    swap_type=\"EXACT_INPUT\",  # specify the exact input amount\n",
    "    slippage_bps=100,  # 1%\n",
    "    origin_asset=\"nep141:arb-0xaf88d065e77c8cc2239327c5edb3a432268e5831.omft.near\",  # asset you are sending from the origin chain\n",
    "    deposit_type=\"ORIGIN_CHAIN\",  # how funds are deposited, send directly on the origin chain\n",
    "    destination_asset=\"nep141:sol-5ce3bf3a31af18be40ba30f721101b4341690186.omft.near\",  # Asset you want to receive on the destination chain (same format as origin chain)\n",
    "    amount_wei=\"1000000\",  # example: 1.0 token if decimals=6\n",
    "    refund_to=\"0x2527D02599Ba641c19FEa793cD0F167589a0f10D\",  # Address that should receive refunds if the swap fails or times out.\n",
    "    refund_type=\"ORIGIN_CHAIN\",\n",
    "    recipient=\"13QkxhNMrTPxoCkRdYdJ65tFuwXPhL5gLS2Z5Nr6gjRK\",  # Address that will receive the destination asset. Must match recipient_type format.\n",
    "    recipient_type=\"DESTINATION_CHAIN\",\n",
    "    referral=\"myapp\",\n",
    "    quote_wait_ms=3000,\n",
    "    app_fees=[{\"recipient\": \"recipient.near\", \"fee\": 100}],  # 100 bps = 1%\n",
    ")\n",
    "print(\"DRY quote:\", dry_quote)"
   ]
  },
  {
   "cell_type": "code",
   "execution_count": 27,
   "id": "64cebbc9",
   "metadata": {},
   "outputs": [
    {
     "data": {
      "text/plain": [
       "{'quote': {'amountIn': '1000000',\n",
       "  'amountInFormatted': '1.0',\n",
       "  'amountInUsd': '0.9998',\n",
       "  'minAmountIn': '1000000',\n",
       "  'amountOut': '592599',\n",
       "  'amountOutFormatted': '0.592599',\n",
       "  'amountOutUsd': '0.5925',\n",
       "  'minAmountOut': '582699',\n",
       "  'timeEstimate': 22},\n",
       " 'quoteRequest': {'quoteWaitingTimeMs': 3000,\n",
       "  'dry': True,\n",
       "  'swapType': 'EXACT_INPUT',\n",
       "  'slippageTolerance': 100,\n",
       "  'originAsset': 'nep141:arb-0xaf88d065e77c8cc2239327c5edb3a432268e5831.omft.near',\n",
       "  'depositType': 'ORIGIN_CHAIN',\n",
       "  'destinationAsset': 'nep141:sol-5ce3bf3a31af18be40ba30f721101b4341690186.omft.near',\n",
       "  'amount': '1000000',\n",
       "  'refundTo': '0x2527D02599Ba641c19FEa793cD0F167589a0f10D',\n",
       "  'refundType': 'ORIGIN_CHAIN',\n",
       "  'recipient': '13QkxhNMrTPxoCkRdYdJ65tFuwXPhL5gLS2Z5Nr6gjRK',\n",
       "  'recipientType': 'DESTINATION_CHAIN',\n",
       "  'deadline': '2025-08-10T00:54:27.000Z',\n",
       "  'referral': 'myapp',\n",
       "  'appFees': [{'recipient': 'recipient.near', 'fee': 100}]},\n",
       " 'signature': 'ed25519:RNJwUriXorydLLdrQzWE17K6xLDYRq8RvhvCbqz4Z1gG8g8tDB7Ui3dJPMkYjHbaE3DEvghiSBc6eNH8e8omFha',\n",
       " 'timestamp': '2025-08-09T23:24:28.844Z'}"
      ]
     },
     "execution_count": 27,
     "metadata": {},
     "output_type": "execute_result"
    }
   ],
   "source": [
    "dry_quote"
   ]
  },
  {
   "cell_type": "markdown",
   "id": "90411a7c",
   "metadata": {},
   "source": [
    "**3) Live quote (generates a unique deposit address you will fund)**"
   ]
  },
  {
   "cell_type": "code",
   "execution_count": 28,
   "id": "415bbff0",
   "metadata": {},
   "outputs": [
    {
     "name": "stderr",
     "output_type": "stream",
     "text": [
      "/tmp/ipykernel_164851/2870745585.py:24: DeprecationWarning: datetime.datetime.utcnow() is deprecated and scheduled for removal in a future version. Use timezone-aware objects to represent datetimes in UTC: datetime.datetime.now(datetime.UTC).\n",
      "  deadline_iso = (dt.datetime.utcnow() + dt.timedelta(minutes=90)).replace(microsecond=0).isoformat() + \"Z\"\n"
     ]
    }
   ],
   "source": [
    "live_quote = request_quote(\n",
    "    dry=False,\n",
    "    swap_type=\"EXACT_INPUT\",\n",
    "    slippage_bps=100,\n",
    "    origin_asset=\"nep141:arb-0xaf88d065e77c8cc2239327c5edb3a432268e5831.omft.near\",\n",
    "    deposit_type=\"ORIGIN_CHAIN\",\n",
    "    destination_asset=\"nep141:sol-5ce3bf3a31af18be40ba30f721101b4341690186.omft.near\",\n",
    "    amount_wei=\"1000000\",\n",
    "    refund_to=\"0x2527D02599Ba641c19FEa793cD0F167589a0f10D\",\n",
    "    refund_type=\"ORIGIN_CHAIN\",\n",
    "    recipient=\"13QkxhNMrTPxoCkRdYdJ65tFuwXPhL5gLS2Z5Nr6gjRK\",\n",
    "    recipient_type=\"DESTINATION_CHAIN\",\n",
    "    referral=\"myapp\",\n",
    ")"
   ]
  },
  {
   "cell_type": "code",
   "execution_count": 29,
   "id": "4aaae514",
   "metadata": {},
   "outputs": [
    {
     "data": {
      "text/plain": [
       "{'quote': {'amountIn': '1000000',\n",
       "  'amountInFormatted': '1.0',\n",
       "  'amountInUsd': '0.9997',\n",
       "  'minAmountIn': '1000000',\n",
       "  'amountOut': '602503',\n",
       "  'amountOutFormatted': '0.602503',\n",
       "  'amountOutUsd': '0.6023',\n",
       "  'minAmountOut': '592503',\n",
       "  'timeEstimate': 22,\n",
       "  'deadline': '2025-08-10T23:26:12.758Z',\n",
       "  'timeWhenInactive': '2025-08-10T23:26:12.758Z',\n",
       "  'depositAddress': '0x69f1e6F0140bd83263CE33111E85D0c975f8504B'},\n",
       " 'quoteRequest': {'quoteWaitingTimeMs': 3000,\n",
       "  'dry': False,\n",
       "  'swapType': 'EXACT_INPUT',\n",
       "  'slippageTolerance': 100,\n",
       "  'originAsset': 'nep141:arb-0xaf88d065e77c8cc2239327c5edb3a432268e5831.omft.near',\n",
       "  'depositType': 'ORIGIN_CHAIN',\n",
       "  'destinationAsset': 'nep141:sol-5ce3bf3a31af18be40ba30f721101b4341690186.omft.near',\n",
       "  'amount': '1000000',\n",
       "  'refundTo': '0x2527D02599Ba641c19FEa793cD0F167589a0f10D',\n",
       "  'refundType': 'ORIGIN_CHAIN',\n",
       "  'recipient': '13QkxhNMrTPxoCkRdYdJ65tFuwXPhL5gLS2Z5Nr6gjRK',\n",
       "  'recipientType': 'DESTINATION_CHAIN',\n",
       "  'deadline': '2025-08-10T00:56:08.000Z',\n",
       "  'referral': 'myapp'},\n",
       " 'signature': 'ed25519:24j6BxeWSzh2SodfGkhSNn6S5kfB8qUzV3ntnEJFiHAHrxRsWWp5bdq4BseEQ8stx6bVrV5FTXU2ihmULjo4HTc1',\n",
       " 'timestamp': '2025-08-09T23:26:09.637Z'}"
      ]
     },
     "execution_count": 29,
     "metadata": {},
     "output_type": "execute_result"
    }
   ],
   "source": [
    "live_quote"
   ]
  },
  {
   "cell_type": "code",
   "execution_count": 30,
   "id": "d99383ef",
   "metadata": {},
   "outputs": [
    {
     "name": "stdout",
     "output_type": "stream",
     "text": [
      "Deposit to: 0x69f1e6F0140bd83263CE33111E85D0c975f8504B\n"
     ]
    }
   ],
   "source": [
    "deposit_address = live_quote[\"quote\"][\"depositAddress\"]\n",
    "print(\"Deposit to:\", deposit_address)"
   ]
  },
  {
   "cell_type": "markdown",
   "id": "d98f6fa5",
   "metadata": {},
   "source": [
    "4. (You send tokens to deposit_address on the origin chain)\n",
    "\n",
    "Optional: tell 1Click the tx hash immediately to speed up processing:"
   ]
  },
  {
   "cell_type": "code",
   "execution_count": null,
   "id": "ec434db1",
   "metadata": {},
   "outputs": [],
   "source": [
    "submit_res = submit_deposit_tx(tx_hash=\"0x123abc456def789\", deposit_address=deposit_address)"
   ]
  },
  {
   "cell_type": "code",
   "execution_count": null,
   "id": "283d4788",
   "metadata": {},
   "outputs": [],
   "source": [
    "\n",
    "# -------------------------\n",
    "# Example usage (adjust as needed)\n",
    "# -------------------------\n",
    "if __name__ == \"__main__\":\n",
    "    # 1) Discover tokens\n",
    "    tokens = list_supported_tokens()\n",
    "    print(\"Supported tokens (truncated):\", tokens[:3])  # sample\n",
    "\n",
    "    # 2) DRY quote (preview pricing; no deposit address generated)\n",
    "    dry_quote = request_quote(\n",
    "        dry=True,\n",
    "        swap_type=\"EXACT_INPUT\",\n",
    "        slippage_bps=100,  # 1%\n",
    "        origin_asset=\"nep141:arb-0xaf88d065e77c8cc2239327c5edb3a432268e5831.omft.near\",\n",
    "        deposit_type=\"ORIGIN_CHAIN\",\n",
    "        destination_asset=\"nep141:sol-5ce3bf3a31af18be40ba30f721101b4341690186.omft.near\",\n",
    "        amount_wei=\"1000000\",  # example: 1.0 token if decimals=6\n",
    "        refund_to=\"0x2527D02599Ba641c19FEa793cD0F167589a0f10D\",\n",
    "        refund_type=\"ORIGIN_CHAIN\",\n",
    "        recipient=\"13QkxhNMrTPxoCkRdYdJ65tFuwXPhL5gLS2Z5Nr6gjRK\",\n",
    "        recipient_type=\"DESTINATION_CHAIN\",\n",
    "        referral=\"myapp\",\n",
    "        quote_wait_ms=3000,\n",
    "        app_fees=[{\"recipient\": \"recipient.near\", \"fee\": 100}],  # 100 bps = 1%\n",
    "    )\n",
    "    print(\"DRY quote:\", dry_quote)\n",
    "\n",
    "    # 3) Live quote (generates a unique deposit address you will fund)\n",
    "    live_quote = request_quote(\n",
    "        dry=False,\n",
    "        swap_type=\"EXACT_INPUT\",\n",
    "        slippage_bps=100,\n",
    "        origin_asset=\"nep141:arb-0xaf88d065e77c8cc2239327c5edb3a432268e5831.omft.near\",\n",
    "        deposit_type=\"ORIGIN_CHAIN\",\n",
    "        destination_asset=\"nep141:sol-5ce3bf3a31af18be40ba30f721101b4341690186.omft.near\",\n",
    "        amount_wei=\"1000000\",\n",
    "        refund_to=\"0x2527D02599Ba641c19FEa793cD0F167589a0f10D\",\n",
    "        refund_type=\"ORIGIN_CHAIN\",\n",
    "        recipient=\"13QkxhNMrTPxoCkRdYdJ65tFuwXPhL5gLS2Z5Nr6gjRK\",\n",
    "        recipient_type=\"DESTINATION_CHAIN\",\n",
    "        referral=\"myapp\",\n",
    "    )\n",
    "    deposit_address = live_quote[\"quote\"][\"depositAddress\"]\n",
    "    print(\"Deposit to:\", deposit_address)\n",
    "\n",
    "    # 4) (You send tokens to deposit_address on the origin chain)\n",
    "    # Optional: tell 1Click the tx hash immediately to speed up processing:\n",
    "    # submit_res = submit_deposit_tx(tx_hash=\"0x123abc456def789\", deposit_address=deposit_address)\n",
    "    # print(\"Submitted deposit tx:\", submit_res)\n",
    "\n",
    "    # 5) Poll for status until success/refund\n",
    "    for _ in range(30):\n",
    "        status = get_status(deposit_address)\n",
    "        print(\"Status:\", status.get(\"status\"))\n",
    "        if status.get(\"status\") in {\"SUCCESS\", \"REFUNDED\", \"FAILED\"}:\n",
    "            break\n",
    "        time.sleep(10)"
   ]
  },
  {
   "cell_type": "code",
   "execution_count": null,
   "id": "d6beda5c",
   "metadata": {},
   "outputs": [],
   "source": []
  },
  {
   "cell_type": "code",
   "execution_count": null,
   "id": "21dd1702",
   "metadata": {},
   "outputs": [],
   "source": []
  },
  {
   "cell_type": "code",
   "execution_count": null,
   "id": "83927a82",
   "metadata": {},
   "outputs": [],
   "source": []
  },
  {
   "cell_type": "code",
   "execution_count": null,
   "id": "293a17c8",
   "metadata": {},
   "outputs": [],
   "source": [
    "API_URL = \"https://api.near-intents.io/v1/1click\"\n",
    "API_KEY = \"YOUR_API_KEY\""
   ]
  },
  {
   "cell_type": "code",
   "execution_count": 5,
   "id": "daa596bc",
   "metadata": {},
   "outputs": [],
   "source": [
    "payload = {\n",
    "    \"account_id\": \"example.near\",\n",
    "    \"intent\": {\n",
    "        \"receiver_id\": \"receiver.near\",\n",
    "        \"actions\": [\n",
    "            {\n",
    "                \"type\": \"Transfer\",\n",
    "                \"amount\": \"1000000000000000000000000\"  # 1 NEAR in yoctoNEAR\n",
    "            }\n",
    "        ]\n",
    "    }\n",
    "}"
   ]
  },
  {
   "cell_type": "code",
   "execution_count": null,
   "id": "2760c47f",
   "metadata": {},
   "outputs": [],
   "source": [
    "headers = {\n",
    "    \"Authorization\": f\"Bearer {API_KEY}\",\n",
    "    \"Content-Type\": \"application/json\"\n",
    "}"
   ]
  },
  {
   "cell_type": "code",
   "execution_count": null,
   "id": "8869e989",
   "metadata": {},
   "outputs": [],
   "source": [
    "response = requests.post(API_URL, json=payload, headers=headers)"
   ]
  },
  {
   "cell_type": "code",
   "execution_count": null,
   "id": "cfdaac1e",
   "metadata": {},
   "outputs": [],
   "source": [
    "print(response.status_code)\n",
    "print(response.json())"
   ]
  },
  {
   "cell_type": "code",
   "execution_count": null,
   "id": "109118a5",
   "metadata": {},
   "outputs": [],
   "source": []
  }
 ],
 "metadata": {
  "kernelspec": {
   "display_name": "near",
   "language": "python",
   "name": "python3"
  },
  "language_info": {
   "codemirror_mode": {
    "name": "ipython",
    "version": 3
   },
   "file_extension": ".py",
   "mimetype": "text/x-python",
   "name": "python",
   "nbconvert_exporter": "python",
   "pygments_lexer": "ipython3",
   "version": "3.12.0"
  }
 },
 "nbformat": 4,
 "nbformat_minor": 5
}
